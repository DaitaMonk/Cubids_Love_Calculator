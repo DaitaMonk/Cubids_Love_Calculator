{
 "cells": [
  {
   "cell_type": "markdown",
   "id": "97b928ee",
   "metadata": {},
   "source": [
    "# CUPID'S LOVE CALCULATOR\n",
    "\n",
    "\n",
    "**Love calculators are like mischievous little cupids hiding inside our computers. They claim to have the secret formula for measuring love, but in reality, they're just mischievous matchmakers playing with our hearts.**\n",
    "\n",
    "**When you enter your name and your crush's name into a love calculator, it's like throwing ingredients into a magical cauldron. The calculator starts bubbling and whirring, trying to compute an enchanting love score. It's as if the calculator is whispering sweet nothings to the numbers, coaxing them to reveal your fate.**\n",
    "\n",
    "**But be warned! Love calculators have a mischievous sense of humor. They might giggle and tease you with a high score, making your heart race and your palms sweat. Or they might playfully nudge you with a modest score, leaving you hopeful but wanting more.**\n",
    "\n",
    "\n",
    "\n",
    "**The code below is a simple love calculator that takes two names as input and calculates a \"love score\" based on the occurrences of specific letters in the combined names.**\n",
    "\n",
    "**Here's a simplified explanation of how the code works:**\n",
    "\n",
    "The code prompts the user to enter two names: U and p.\n",
    "\n",
    "It concatenates the two names together and assigns the result to the variable full.\n",
    "\n",
    "The full.lower() line attempts to convert the combined name to lowercase. However, since it doesn't assign the result back to a variable, it doesn't affect the subsequent code.\n",
    "\n",
    "Two lists, t and l, are defined. Each list represents the letters of the words \"true\" and \"love\" respectively.\n",
    "\n",
    "Two variables, scoree and scor, are initialized to zero. These variables will be used to keep track of the score for the letters in the combined name.\n",
    "\n",
    "The code uses a loop to iterate over each letter in the t list and adds the count of that letter in the full name to the scoree variable.\n",
    "\n",
    "Similarly, another loop iterates over each letter in the l list and adds the count of that letter in the full name to the scor variable.\n",
    "\n",
    "The score variable is created by concatenating the scoree and scor values together as strings.\n",
    "\n",
    "**The code then compares the score with certain thresholds to determine the output message:**\n",
    "\n",
    "If the score is greater than 70, it prints \"Cupid Agrees!\".\n",
    "If the score is less than or equal to 70, it prints \"Cupid Says Maybe\".\n",
    "If the score is less than or equal to 50, it prints \"Cupid is silent\".\n",
    "Overall, the code calculates a \"love score\" by counting the occurrences of specific letters in the combined names and provides a response based on that score. However, it's important to note that this code is a very simplistic representation of a love calculator and shouldn't be taken as an accurate measure of love. It's purely for illustrative purposes."
   ]
  },
  {
   "cell_type": "code",
   "execution_count": 28,
   "id": "ee4b1905",
   "metadata": {},
   "outputs": [
    {
     "name": "stdout",
     "output_type": "stream",
     "text": [
      "Your Name: Iron Man\n",
      "Your Name: Captain Marvel\n"
     ]
    }
   ],
   "source": [
    "U = input('Your Name: ')\n",
    "p = input('Your Name: ') \n",
    "\n",
    "full = U + p #names joined together\n",
    "full.lower() \n",
    "\n",
    "t = [\"t\", \"r\", \"u\", \"e\"]\n",
    "l = [\"l\", \"o\", \"v\", \"e\"]\n",
    "scoree = 0\n",
    "scor = 0\n",
    "#checks the number of number of times letters in \"t\" apears and sum them up\n",
    "for val in t:\n",
    "    scoree = full.count(val) + scoree\n",
    "#checks the number of number of times letters in \"l\" apears and sum them up\n",
    "for val in l:\n",
    "    scor = full.count(val) + scor"
   ]
  },
  {
   "cell_type": "code",
   "execution_count": 29,
   "id": "d0c1434d",
   "metadata": {},
   "outputs": [
    {
     "name": "stdout",
     "output_type": "stream",
     "text": [
      "score: 44 Cupid Says Maybe\n"
     ]
    }
   ],
   "source": [
    "score = str(scoree) + str(scor) \n",
    "if int(score) > 70:\n",
    "    print(f\"scor: {score} Cupid Agrees!\")\n",
    "elif int(score) <= 70:\n",
    "    print(f\"score: {score} Cupid Says Maybe\")\n",
    "elif int(score) <= 50:\n",
    "    print(f\"score: {score} Cupid is silent\")"
   ]
  },
  {
   "cell_type": "code",
   "execution_count": null,
   "id": "17cce68f",
   "metadata": {},
   "outputs": [],
   "source": []
  }
 ],
 "metadata": {
  "kernelspec": {
   "display_name": "Python 3 (ipykernel)",
   "language": "python",
   "name": "python3"
  },
  "language_info": {
   "codemirror_mode": {
    "name": "ipython",
    "version": 3
   },
   "file_extension": ".py",
   "mimetype": "text/x-python",
   "name": "python",
   "nbconvert_exporter": "python",
   "pygments_lexer": "ipython3",
   "version": "3.9.13"
  }
 },
 "nbformat": 4,
 "nbformat_minor": 5
}
